{
 "cells": [
  {
   "cell_type": "markdown",
   "id": "fbbb199f-d403-4ae3-9d98-619a010e9fcd",
   "metadata": {},
   "source": [
    "---\n",
    "\n",
    "<center><b><font size=\"+3\">Double Pendulum Exploration<font></b></center>\n",
    "<div align=\"center\"><font size=\"+1\"> Juan Robles<font></center>\n",
    "<div align=\"center\"> Fall 2023 - Physics 115\n",
    "<div align=\"center\"> University of California Santa Cruz\n",
    "    \n",
    "---"
   ]
  },
  {
   "cell_type": "markdown",
   "id": "f57a1346-060b-479a-94db-d7338cc6aa17",
   "metadata": {},
   "source": [
    "## Introduction: Single Pendulum\n",
    "Consider the typical pendulum from your introductory Physics course:"
   ]
  },
  {
   "cell_type": "markdown",
   "id": "865532f2-907a-4dc6-9140-d0d57f2ce42e",
   "metadata": {},
   "source": [
    "<p align=\"center\"><img src= \"simpen.png\" <p>"
   ]
  },
  {
   "cell_type": "markdown",
   "id": "5f8bc1e9-f09c-48c8-adc4-7537c78c378a",
   "metadata": {},
   "source": [
    "\n",
    "Finding the equations of motion is straight forward, using Lagrangian Mechanics:\n",
    "\n",
    "$$\n",
    "\\begin{equation}\n",
    "\\begin{split}\n",
    "     \\mathcal{L} &= T - V\\\\\n",
    "     \\mathcal{L} &= \\frac{1}{2}I\\omega^{2} + mgLcos\\left(\\theta\\right)\\\\\n",
    "     \\mathcal{L} &= \\frac{1}{2}(L^2m)\\dot{\\theta}^2 + mgLcos\\left(\\theta\\right)\\\\\n",
    "     \\frac{\\partial\\mathcal{L}}{\\partial\\theta} &= -mgLsin\\left(\\theta\\right)\\\\\n",
    "     \\frac{d}{dt}\\frac{\\partial\\mathcal{L}}{\\partial \\dot{\\theta}} &= \\frac{d}{dt}\\left(L^2m\\dot{\\theta}\\right)=mL^2\\ddot{\\theta}\\\\\n",
    "     \\therefore \\ddot{\\theta} &= -\\frac{g}{L}\\sin\\left(\\theta\\right)\\\\\n",
    "\\end{split}\n",
    "\\end{equation}\n",
    "$$"
   ]
  },
  {
   "cell_type": "markdown",
   "id": "d6341e34",
   "metadata": {},
   "source": [
    "Therefore, for a simple pendulum, without a driving force or a damping coefficient, the equation of motion is simply,\n",
    "$$\n",
    "\\begin{equation}\n",
    "\\ddot{\\theta} = -\\frac{g}{L}\\sin\\left(\\theta\\right).\n",
    "\\tag{1}\n",
    "\\end{equation}\n",
    "$$"
   ]
  },
  {
   "cell_type": "markdown",
   "id": "164d3079-29bb-49f1-bdd2-87f5842316a2",
   "metadata": {},
   "source": [
    "If there is a driving force and damping, the following equation describes the system,\n",
    "$$\n",
    "\\begin{equation}\n",
    "\\ddot{\\theta} = -\\frac{g}{L}\\sin\\left(\\theta\\right) - \\alpha\\dot{\\theta} + f\\cos\\left(\\omega t\\right).\n",
    "\\tag{2}\n",
    "\\end{equation}\n",
    "$$\n",
    "Both equations shown above cannot be solved unless numerical methods, or in this case, computational methods are utilized."
   ]
  },
  {
   "cell_type": "markdown",
   "id": "36c0dea4",
   "metadata": {},
   "source": [
    "If we apply a small angle approximation on both Equation (1) and Equation (2), we arrive at the following equations:\n",
    "$$\n",
    "\\begin{equation}\n",
    "\\ddot{\\theta} \\approx -\\frac{g}{L}\\theta\n",
    "\\tag{3}\n",
    "\\end{equation}\n",
    "$$\n",
    "$$\n",
    "\\begin{equation}\n",
    "\\ddot{\\theta} \\approx -\\frac{g}{L}\\theta - \\alpha\\dot{\\theta} +f\\cos\\left(\\omega t\\right)\n",
    "\\tag{4}\n",
    "\\end{equation}\n",
    "$$"
   ]
  },
  {
   "cell_type": "markdown",
   "id": "fd44bde6",
   "metadata": {},
   "source": [
    "Both equations showed can be solved analytically, with the latter requiring a little more work. For our puposes Equation (3) will be solved analytically and compared to the solution obtained from the algorithm used.\n"
   ]
  },
  {
   "cell_type": "markdown",
   "id": "49fa1135",
   "metadata": {},
   "source": [
    "Obtaining the characteristic equation for Equation (3), and applying the boundary conditions yields,\n",
    "\n",
    "$$\n",
    "\\begin{equation}\n",
    "\\theta\\left(t\\right) = \\theta_{0}\\cos\\left(\\sqrt{\\frac{g}{L}}t \\right).\n",
    "\\tag{5}\n",
    "\\end{equation}\n",
    "$$"
   ]
  },
  {
   "cell_type": "markdown",
   "id": "74991fe6",
   "metadata": {},
   "source": [
    "Equation (5) will be used to verify if the algorithm used to solve Equation (3) works."
   ]
  },
  {
   "cell_type": "markdown",
   "id": "8e82600d-9542-4b62-bc27-4b9eca1d7c22",
   "metadata": {},
   "source": [
    "## Single Pendulum Class"
   ]
  },
  {
   "cell_type": "markdown",
   "id": "177bd262",
   "metadata": {},
   "source": [
    "To maintain the code block in just one cell, a class called *SinglePendulum* was written. The contents of the class are the following:\n",
    "+ \\_\\_init\\_\\_(l, g, a, f, small)\n",
    "    + This function takes the length of the string, the gravitational constant, the damping coefficient, the driving force, and a boolean variable, as parameters. The boolean parameter is set to True if there is a small angle approximation, or False if there isn't a small angle approximation.\n",
    "    + It initializes the variables that we will be using within the class\n",
    "    + Basically the constructor\n",
    "+ canned(x, t)\n",
    "    + This function was used when debugging to check that the output matched with the Python ODE solver.\n",
    "    + The parameters are the initial conditions of the system, as well as the time range. Both of the parameters should be array types.\n",
    "+ rk4(x, t, dt)\n",
    "    + This function is used to apply the Runge-Kutta-4 algorithm to the differential equations.\n",
    "    + The parameters are the initial conditions, the time array, and the time step.\n",
    "    \n",
    "+ g1(x, y0, y1, t)\n",
    "    + This function takes in four array parameters; the initial conditions, the values of the solution, the values of the derivative of the solution, and time.\n",
    "    + Plots the different graphs $\\theta$ v. t, $\\dot{\\theta}$ v. t, and $\\dot{\\theta}$ v. $\\theta$ for the small angle approximation, and compares to Equation (5).\n",
    "+ g2(y0, y1, t)\n",
    "    + This function takes in four array parameters; the initial conditions, the values of the solution, the values of the derivative of the solution, and time.\n",
    "    + Plots the different graphs $\\theta$ v. t, $\\dot{\\theta}$ v. t, and $\\dot{\\theta}$ v. $\\theta$ for any angle.\n",
    "+ g3(y0, y1, y01, y11, t)\n",
    "    + This function is used to compare the plots produced when small angle approximations are taken, with those produced when there is no approximation.\n",
    "    \n",
    "The code cell containing all of these is below."
   ]
  },
  {
   "cell_type": "markdown",
   "id": "c7ded8cc",
   "metadata": {},
   "source": [
    "\n",
    "__Note__: Although there are multiple ways of solving the differential equation with computational methods, the Runge-Kutta *__[5]__*, is the method that will be used,"
   ]
  },
  {
   "cell_type": "code",
   "execution_count": null,
   "id": "62d41dae",
   "metadata": {},
   "outputs": [],
   "source": [
    "import numpy as np\n",
    "import matplotlib.pyplot as plt\n",
    "%matplotlib inline\n",
    "import scipy.integrate as integrate\n",
    "\n",
    "\n",
    "class singlePendulum(object):\n",
    "    \"\"\"\n",
    "    (1). __init__: Initializes the coefficients used in the equations\n",
    "    (2). canned: Called when the canned ODE solver is used to check the methods used\n",
    "        Let x = [x[0], x[1]];\n",
    "        Where x[0] is the initial angle and x[1] is the angular frequency.\n",
    "        The system of ODE's we will be defining is:\n",
    "        y[0] = x[1]\n",
    "        y[1] = -g/l*np.sin(x[0]) - a*y[0] + f*np.cos(w*t)\n",
    "    (3). rk4: Will be the Runge-Kutta-4 method for solving ODE's\n",
    "    \"\"\"\n",
    "    def __init__(self, l, g, a, f, small):\n",
    "        self.l = l # Length of the string\n",
    "        self.g = g # Gravitational Acceleration\n",
    "        self.a = a # Damping constant\n",
    "        self.f = f # Driving force\n",
    "        self.small = small # Boolean variable: True for angle approx., False otherwise.\n",
    "    \n",
    "    # Function to call when the Standard Python ODE solver is called\n",
    "    def canned(self,x,t):\n",
    "        x = x # Array for the initial conditions    \n",
    "        # Defining the variables, var, as self.var so I don't have to write self all the time\n",
    "        l = self.l\n",
    "        g = self.g\n",
    "        a = self.a\n",
    "        f = self.f\n",
    "        small = self.small\n",
    "        # Creates an array of zeros the size of x; 2\n",
    "        y = np.zeros(len(x))\n",
    "        w = 0.5\n",
    "        if small == False:\n",
    "            # System of ODE's for any angle\n",
    "            y[0] = x[1]\n",
    "            y[1] = (-g/l)*np.sin(x[0]) - a*y[0] + f*np.cos(w*t)\n",
    "            return y\n",
    "        else:\n",
    "            # System of ODE's for small angle approx.\n",
    "            y[0] = x[1]\n",
    "            y[1] = (-g/l)*x[0] - a*y[0] + f*(1-(x[0]*x[0])/2.0)\n",
    "            return y\n",
    "    # Rung-Kutta-4 method\n",
    "    def rk4(self, x, t, dt):\n",
    "        N = len(t)\n",
    "        # Defining the variables, var, as self.var so I don't have to write self all the time\n",
    "        l = self.l\n",
    "        g = self.g\n",
    "        a = self.a\n",
    "        f = self.f\n",
    "        small = self.small\n",
    "        # Creates arrays the size of N; the size of the time range\n",
    "        x0 = np.zeros(N)\n",
    "        x1 = np.zeros(N)\n",
    "        # Sets the intial conditions for the arrays defined above\n",
    "        x0[0] = x[0]\n",
    "        x1[0] = x[1]\n",
    "        h = dt\n",
    "        w = 0.5\n",
    "        if small == False:\n",
    "            # Runge-Kutta calculations for the\n",
    "            # x0[i] is found using the euler method\n",
    "            for i in range(1,N):\n",
    "                k1 = dt*(-g/l*np.sin(x0[i-1]) - a*x1[i-1] + f*np.cos(w*t[i-1]))\n",
    "                k2 = dt*(-g/l*np.sin(x0[i-1] + h/2.) - a*(x1[i-1]+k1/2.) + f*np.cos(w*t[i-1]))\n",
    "                k3 = dt*(-g/l*np.sin(x0[i-1] + h/2.) - a*(x1[i-1]+k2/2.) + f*np.cos(w*t[i-1]))\n",
    "                k4 = dt*(-g/l*np.sin(x0[i-1] + h/2.) - a*(x1[i-1]+k3/2.) + f*np.cos(w*t[i-1]))\n",
    "                x1[i] = x1[i-1] + (1./6.)*(k1 + 2.*k2 + 2.*k3 + k4)\n",
    "                x0[i] = x0[i-1] + h*x1[i]\n",
    "            return x0,x1\n",
    "        else:\n",
    "            # Runge-Kutta calculations for the\n",
    "            # x0[i] is found using the euler method\n",
    "            for i in range(1,N):\n",
    "                k1 = dt*(-g/l*x0[i-1] - a*x1[i-1] + f*np.cos(w*t[i-1]))\n",
    "                k2 = dt*(-g/l*(x0[i-1] + h/2.) - a*(x1[i-1]+k1/2.) + f*np.cos(w*t[i-1]))\n",
    "                k3 = dt*(-g/l*(x0[i-1] + h/2.) - a*(x1[i-1]+k2/2.) + f*np.cos(w*t[i-1]))\n",
    "                k4 = dt*(-g/l*(x0[i-1] + h/2.) - a*(x1[i-1]+k3/2.) + f*np.cos(w*t[i-1]))\n",
    "                x1[i] = x1[i-1] + (1./6.)*(k1 + 2.*k2 + 2.*k3 + k4)\n",
    "                x0[i] = x0[i-1] + h*x1[i]\n",
    "            return x0,x1\n",
    "    # Method to plot for small angle approximation, with comparisson\n",
    "    def g1(self, x, y0,y1, t):\n",
    "        N0 = len(y0)\n",
    "        N1 = len(y1)\n",
    "        if self.small == True:\n",
    "            des = \"- $\\\\theta$ Approximation\"\n",
    "        else:\n",
    "            des = \"- No Approximation\"\n",
    "        fig,z = plt.subplots(3, figsize = (15,15))\n",
    "        z[0].plot(t,y0, label = \"RK4 {}\".format(des))\n",
    "        z[0].plot(t, x[0]*np.cos((self.g/self.l)**0.5*t), label = \"Cosine\")\n",
    "        z[0].set_title(\"$\\\\theta$ versus t\", size = 15)\n",
    "        z[0].set_xlabel(\"t [s]\", size = 15)\n",
    "        z[0].set_ylabel(\"$\\\\theta$\", size = 15)\n",
    "        z[0].legend(loc = \"best\")\n",
    "        z[0].grid()\n",
    "        z[1].plot(t,y1, label =\"RK4 {}\".format(des))\n",
    "        z[1].set_title(\"$\\dot{\\\\theta}$ versus t\", size = 15)\n",
    "        z[1].set_xlabel(\"t [s]\", size = 15)\n",
    "        z[1].set_ylabel(\"$\\dot{\\\\theta}$\", size = 15)\n",
    "        z[1].legend(loc = \"best\")\n",
    "        z[1].grid()\n",
    "        z[2].plot(y0,y1, label = \"RK4 {}\".format(des))\n",
    "        z[2].set_title(\"$\\dot{\\\\theta}$ versus $\\\\theta$\", size =15)\n",
    "        z[2].set_xlabel(\"$\\\\theta$\", size = 15)\n",
    "        z[2].set_ylabel(\"$\\dot{\\\\theta}$\", size = 15)\n",
    "        z[2].plot(y0[0], y1[0], 'o', label = \"Start = ({}, {})\".format(y0[0], y1[0]))\n",
    "        z[2].plot(y0[N0-1], y1[N1-1], 'o', label = \"Finish = ({}, {})\".format(\"%.2f\"%y0[N0-1], \"%.2f\"%y1[N1-1]))\n",
    "        z[2].legend(loc = \"best\")\n",
    "        z[2].grid()\n",
    "        fig.tight_layout()\n",
    "        plt.show()\n",
    "        \n",
    "    # Method to plot for pendulum, without comparison\n",
    "    def g2(self,y0,y1, t):\n",
    "        if self.small == True:\n",
    "            des = \"- $\\\\theta$ Approximation\"\n",
    "        else:\n",
    "            des = \"- No Approximation\"\n",
    "        N0 = len(y0)\n",
    "        N1 = len(y1)\n",
    "        fig,z = plt.subplots(3, figsize = (15,15))\n",
    "        z[0].plot(t,y0, label = \"RK4 {}\".format(des))\n",
    "        z[0].set_title(\"$\\\\theta$ versus t\", size = 15)\n",
    "        z[0].set_xlabel(\"t [s]\", size = 15)\n",
    "        z[0].set_ylabel(\"$\\\\theta$\", size = 15)\n",
    "        z[0].legend(loc = \"best\")\n",
    "        z[0].grid()\n",
    "        z[1].plot(t,y1, label =\"RK4 {}\".format(des))\n",
    "        z[1].set_title(\"$\\dot{\\\\theta}$ versus t\", size = 15)\n",
    "        z[1].set_xlabel(\"t [s]\", size = 15)\n",
    "        z[1].set_ylabel(\"$\\dot{\\\\theta}$\", size = 15)\n",
    "        z[1].legend(loc = \"best\")\n",
    "        z[1].grid()\n",
    "        z[2].plot(y0,y1, label = \"RK4 {}\".format(des))\n",
    "        z[2].plot(y0[0], y1[0], 'o', label = \"Start = ({}, {})\".format(y0[0], y1[0]))\n",
    "        z[2].plot(y0[N0-1], y1[N1-1], 'o', label = \"Finish = ({}, {})\".format(\"%.2f\"%y0[N0-1], \"%.2f\"%y1[N1-1]))\n",
    "        z[2].set_title(\"$\\dot{\\\\theta}$ versus $\\\\theta$\", size =15)\n",
    "        z[2].set_xlabel(\"$\\\\theta$\", size = 15)\n",
    "        z[2].set_ylabel(\"$\\dot{\\\\theta}$\", size = 15)\n",
    "        z[2].legend(loc = \"best\")\n",
    "        z[2].grid()\n",
    "        fig.tight_layout()\n",
    "        plt.show()\n",
    "\n",
    "# Method to plot for pendulum, without comparison\n",
    "    def g3(self,y0,y1, t):\n",
    "        if self.small == True:\n",
    "            des = \"- $\\\\theta$ Approximation\"\n",
    "        else:\n",
    "            des = \"- No Approximation\"\n",
    "        fig,z = plt.subplots(3, figsize = (15,15))\n",
    "        z[0].plot(t,y0, label = \"RK4 - {}\".format(des))\n",
    "        z[0].set_title(\"$\\\\theta$ versus t\", size = 15)\n",
    "        z[0].set_xlabel(\"t [s]\", size = 15)\n",
    "        z[0].set_ylabel(\"$\\\\theta$\", size = 15)\n",
    "        z[0].legend(loc = \"best\")\n",
    "        z[0].grid()\n",
    "        z[1].plot(t,y1, label = \"RK4 - {}\".format(des))\n",
    "        z[1].set_title(\"$\\dot{\\\\theta}$ versus t\", size = 15)\n",
    "        z[1].set_xlabel(\"t [s]\", size = 15)\n",
    "        z[1].set_ylabel(\"$\\dot{\\\\theta}$\", size = 15)\n",
    "        z[1].legend(loc = \"best\")\n",
    "        z[1].grid()\n",
    "        z[2].plot(y0,y1, label = \"RK4 - {}\".format(des))\n",
    "        z[2].set_title(\"$\\dot{\\\\theta}$ versus $\\\\theta$\", size =15)\n",
    "        z[2].set_xlabel(\"$\\\\theta$\", size = 15)\n",
    "        z[2].set_ylabel(\"$\\dot{\\\\theta}$\", size = 15)\n",
    "        z[2].legend(loc = \"best\")\n",
    "        z[2].grid()\n",
    "        fig.tight_layout()\n",
    "        plt.show()"
   ]
  },
  {
   "cell_type": "markdown",
   "id": "cdf24b2a",
   "metadata": {},
   "source": [
    "## Applying the Single Pendulum Class"
   ]
  },
  {
   "cell_type": "markdown",
   "id": "c18759ce",
   "metadata": {},
   "source": [
    "For this particular system, there will be four cases of interest.\n",
    "1. First case:\n",
    "   + No driving force: $f$ = 0\n",
    "   + No damping coefficient: $\\alpha$ = 0\n",
    "   + Small angle approximation: $\\sin\\left(\\theta\\right) \\approx \\theta$\n",
    "2. Second case:\n",
    "   + No driving force: $f$ = 0\n",
    "   + No damping coeffieicnt: $\\alpha$ = 0\n",
    "3. Third case:\n",
    "   + Driving force: $f$ = 0.56\n",
    "   + Damping coeffieicnt: $\\alpha$ = 0.8\n",
    "   + Small angle approximation: $\\sin\\left(\\theta\\right) \\approx \\theta$\n",
    "4. Fourth case:\n",
    "   + Driving force: $f$ = 0.56\n",
    "   + Damping coefficient: $\\alpha$ = 0.8\n",
    "   \n",
    "__Note__: Assume that for all of these cases, $l = 1$, $g = 9.81$, and $\\omega = 0.5$"
   ]
  },
  {
   "cell_type": "markdown",
   "id": "b4db8a5a",
   "metadata": {},
   "source": [
    "### Case One"
   ]
  },
  {
   "cell_type": "markdown",
   "id": "84464efb",
   "metadata": {},
   "source": [
    "Based on the information above we can begin by defining our parameters, and constructing a pendulum object."
   ]
  },
  {
   "cell_type": "code",
   "execution_count": null,
   "id": "5621f62a",
   "metadata": {},
   "outputs": [],
   "source": [
    "l = 1.0\n",
    "g = 9.81\n",
    "a0 = 0.0\n",
    "f0 = 0.0\n",
    "small0 = True\n",
    "p0 = singlePendulum(l, g, a0, f0, small0)"
   ]
  },
  {
   "cell_type": "markdown",
   "id": "8c1d8b75",
   "metadata": {},
   "source": [
    "Let the initial conditions be:\n",
    "\n",
    "$$\n",
    "\\begin{equation}\n",
    "\\begin{split}\n",
    "\\theta_{0}&= 0.1\\\\\n",
    "\\dot{\\theta}_{0} &= 0\\\\\n",
    "\\end{split}\n",
    "\\tag{6}\n",
    "\\end{equation}\n",
    "$$\n",
    "\n",
    "while the time array cover a region between 0 and $2\\pi$, with a step size, dt. In other words,\n",
    "\n",
    "$$\n",
    "\\begin{equation}\n",
    "\\begin{split}\n",
    "t_n &\\in \\left[0, 2\\pi\\right]\\\\\n",
    "t_{n} &= t_{n-1} + ndt \\,\\,\\, \\forall n\\,\\in [1, N]\\\\\n",
    "\\end{split}\n",
    "\\tag{7}\n",
    "\\end{equation}\n",
    "$$"
   ]
  },
  {
   "cell_type": "markdown",
   "id": "94477bd1",
   "metadata": {},
   "source": [
    "Let the final value of the time range, $t_N$, and the step size for the time range be:\n",
    "\n",
    "$$ t_N = 2\\pi$$\n",
    "$$ dt = 0.001 $$"
   ]
  },
  {
   "cell_type": "code",
   "execution_count": null,
   "id": "5e857e25",
   "metadata": {},
   "outputs": [],
   "source": [
    "# Defining the initial conditions x0:\n",
    "x0 = [0.1, 0.0]\n",
    "\n",
    "# Defining the time range:\n",
    "## Period\n",
    "## Time step\n",
    "## Time array\n",
    "tn = 2.0*np.pi\n",
    "dt = 0.001\n",
    "t = np.arange(0.0, tn, dt)\n",
    "\n",
    "# Using the defined rk4 method:\n",
    "y0,y1 = p0.rk4(x0, t, dt)\n",
    "# Using the g1 method\n",
    "p0.g1(x0, y0, y1, t)"
   ]
  },
  {
   "cell_type": "markdown",
   "id": "263fcbf3",
   "metadata": {},
   "source": [
    "+ __Plot One__: Based on the plot, \"*$\\theta$ vs t*\", it's apperant that the algorithm yields the behavior corresponding to the solution of the differential equation when the small angle approximation is taken,\n",
    "\n",
    "$$\\theta(t)=\\theta_{0}\\cos\\left(\\sqrt{\\frac{g}{L}}t\\right).$$\n",
    "The amplitude of the function, will simply be the initial angle chosen, in this case 0.1-$rad$, agreeing with our model. The approximation begins to deviate slowly from the actual value, but for our purposes this is sufficient to explore the behavior of this system.\n",
    "+ __Plot Two__: If we take the derivative of the equation displayed above we obtain,\n",
    "\n",
    "$$\\dot{\\theta}(t) = -\\theta_{0}\\sqrt{\\frac{g}{L}}\\sin\\left(\\sqrt{\\frac{g}{L}}t\\right)$$.\n",
    "Where the amplitude of the function is approximately $-0.3$-$s^{-1}$, coinciding with the desciption shown in plot two.\n",
    "+ __Plot Three__: The phase plot follows a closed orbit, showing the transfer of energy between kinetic and potential for a closed system with constant energy *__[6]__* . We can also derive the equation of the path by dividing the equations shown above by their respective amplitudes, squaring both, and summing them.*__[6]__*."
   ]
  },
  {
   "cell_type": "markdown",
   "id": "239b4e83",
   "metadata": {},
   "source": [
    "### Case Two"
   ]
  },
  {
   "cell_type": "markdown",
   "id": "838dfd30",
   "metadata": {},
   "source": [
    "Recall that the second case is simply *Case One* without the small angle approximation. Since we are not using a small angle approximation, let the initial conditions be the following:\n",
    "\n",
    "$$\n",
    "\\begin{equation}\n",
    "\\begin{split}\n",
    "\\theta_{0}&= 20\\\\\n",
    "\\dot{\\theta}_{0} &= 0\\\\\n",
    "\\end{split}\n",
    "\\end{equation}\n",
    "$$\n",
    "In this case there is no small angle approximation, so the parameter *small* will be set to *False*."
   ]
  },
  {
   "cell_type": "code",
   "execution_count": null,
   "id": "6ba6604c",
   "metadata": {},
   "outputs": [],
   "source": [
    "small = False\n",
    "x01 = [20, 0.0]\n",
    "# Constructing the pendulum object\n",
    "p1 = singlePendulum(l, g, a0, f0, small)\n",
    "# Using the defined rk4 method:\n",
    "yp0,yp1 = p1.rk4(x01, t, dt)\n",
    "p1.g2(yp0, yp1, t)"
   ]
  },
  {
   "cell_type": "markdown",
   "id": "a89593f0",
   "metadata": {},
   "source": [
    "Comparing *__Case One__* and *__Case Two__*, it's apparent that the solution for *__Case Two__* closely resembles that of *__Case One__*, meaning the small angle approximation yields a good approximation for the simple pendulum and the algorithm is able to reproduce the behavior of the pendulum. From phase plots of *__Case One__* and *__Case Two__*, it's clear that the energy is conserved, as it is transferred between kinetic and potential energy. In the following cases there will be __(1)__ a damping coefficient, causing the system to lose energy and __(2)__ a driving force that sets the pendulum in motion."
   ]
  },
  {
   "cell_type": "markdown",
   "id": "6b4b0949-577e-447d-be83-89b3cf914eb4",
   "metadata": {},
   "source": [
    "Based on *__Case One__* and *__Case Two__*, the algorithm works so *__Case Three__* and *__Case Four__* will be analyzed in a similar manner."
   ]
  },
  {
   "cell_type": "markdown",
   "id": "e6490313-3036-4768-a8c1-5be40cd9a1f6",
   "metadata": {},
   "source": [
    "### Case Three"
   ]
  },
  {
   "cell_type": "markdown",
   "id": "63277c3a-ec80-45a4-add5-f686d0154c3b",
   "metadata": {},
   "source": [
    "Now lets make our program solve the equations of motion for a damped and driven pendulum using the linear approximation. Recall the equation of motion for said system,\n",
    "\n",
    "$$ \\ddot{\\theta} \\approx -\\frac{g}{L}\\theta - \\alpha\\dot{\\theta} + f\\cos\\left(\\omega t\\right)$$\n",
    "\n",
    "For this particular case, the damping coefficient will take a value of $\\alpha = 0.8$, and the driving force will be $f = 0.56$. With these conditions, lets define our pendula for the respective cases."
   ]
  },
  {
   "cell_type": "markdown",
   "id": "fcf0c381",
   "metadata": {},
   "source": [
    "__Note:__ The driving frequency, $\\omega$, has be set to a default value of 0.5"
   ]
  },
  {
   "cell_type": "code",
   "execution_count": null,
   "id": "d2a90268",
   "metadata": {},
   "outputs": [],
   "source": [
    "a1 = 0.8\n",
    "f = 0.56\n",
    "# For Pendulum 3\n",
    "sa = True\n",
    "p3 = singlePendulum(l, g, a1, f, sa)\n",
    "x03 = [10.0, 0.]\n",
    "# applying rk4 to the pendula objects\n",
    "y0, y1 = p3.rk4(x03, t, dt)\n",
    "# Applying the g2 method with the pendula objects\n",
    "p3.g2(y0, y1, t)"
   ]
  },
  {
   "cell_type": "markdown",
   "id": "f1730086",
   "metadata": {},
   "source": [
    "+ __Plot One__: Shows the decrease in angle over time. The decrease in angle is caused by the damping coefficient that reduces the total energy of the system after every oscillation *__[6]__*.\n",
    "\n",
    "+ __Plot Two__: Shows how the angular frequency is steadily decreasing. Since the energy related to the angular frequency is the kinetic energy, the motion of the pendulum begins to slow down, if the time interval is increased it would flat-line.\n",
    "\n",
    "+ __Plot Three__: This phase plot displays the system spiraling towards an attracting point, dubbed an attractor. This implies the particle is trapped within a potential well. *__[6]__*"
   ]
  },
  {
   "cell_type": "markdown",
   "id": "d51ae4b5",
   "metadata": {},
   "source": [
    "### Case Four"
   ]
  },
  {
   "cell_type": "markdown",
   "id": "2cc707ed",
   "metadata": {},
   "source": [
    "Lets observe the behavior of the same case of a damped and driven pendulum without making a small angle approximation. The equation in question is,\n",
    "$$\\ddot{\\theta} = -\\frac{g}{L}\\sin\\left(\\theta\\right) - \\alpha\\dot{\\theta} + f\\cos\\left(\\omega t\\right).$$\n",
    "\n",
    "As in the previous case, the damping constant is $\\alpha = 0.8$ and the driving force is simply $f = 0.56$, below we define and analyze our pendulum object."
   ]
  },
  {
   "cell_type": "code",
   "execution_count": null,
   "id": "3510cec9",
   "metadata": {},
   "outputs": [],
   "source": [
    "# For Pendulum 4\n",
    "nsa = False\n",
    "p4 = singlePendulum(l, g, a1, f, nsa)\n",
    "x04 = [10., 0.]\n",
    "y01, y11 = p4.rk4(x04, t, dt)\n",
    "p4.g2(y01, y11, t)"
   ]
  },
  {
   "cell_type": "markdown",
   "id": "d7e95cc6",
   "metadata": {},
   "source": [
    "+ __Plot One__: Theta peaks at a value around 14, then slowly decreases approaching zero as time increases. Similar to the plot for *__Case Three__*, the decrease in angle is caused by the damping coefficients.\n",
    "+ __Plot Two__: $\\dot{\\theta}$ starts from zero, peaks and decreases over time, displaying a similar trajectory as its small angle counterpart, however, this plot is shifted by a factor of $\\pi$.\n",
    "+ __Plot Three__: The phase plot seems to be shifted and moves towards values of increasing theta, peaking at 14. This hinting at an increase in energy due to the driving force, leading to an increase in kinetic energy, since the angular frequency increased."
   ]
  },
  {
   "cell_type": "markdown",
   "id": "df145c7b-a5a8-4c26-bff0-3ee3cd796f36",
   "metadata": {},
   "source": [
    "It should go without mentioning that the main difference, physically, is that the double pendulum has a second pendulum attached to the first pendulum. Although one might expect two simple harmonic oscillators, the situation is not as simple as the single pendulum."
   ]
  },
  {
   "cell_type": "markdown",
   "id": "159dc15a",
   "metadata": {},
   "source": [
    "## Introduction: Double Pendulum\n",
    "Consider the double pendulum shown below:"
   ]
  },
  {
   "cell_type": "markdown",
   "id": "2e140d4b",
   "metadata": {},
   "source": [
    "<p align=\"center\"><img src= \"dps.png\" <p>"
   ]
  },
  {
   "cell_type": "markdown",
   "id": "079839d1",
   "metadata": {},
   "source": [
    "Obtaining the Lagrangian *__[5]__*,\n",
    "$$\n",
    "\\begin{equation}\n",
    "\\begin{split}\n",
    " \\mathcal{L} & = \\frac{1}{2}\\left( m_1+m_2 \\right)l_1^{2}\\dot{\\theta}^{2}_{1} + \\frac{1}{2}m_2l_2^{2}\\dot{\\theta}^{2}_{2} + m_2l_1l_2\\dot{\\theta}_{1}\\dot{\\theta}_{2}\\cos\\left( \\theta_{1}-\\theta_{2} \\right) \\\\\n",
    " & + \\left( m_1+m_2 \\right)gl_1\\cos\\left( \\theta_1 \\right) + m_2gl_2\\cos\\left(\\theta_{2}\\right).\\\\\n",
    " \\end{split}\n",
    " \\tag{8}\n",
    " \\end{equation}\n",
    " $$"
   ]
  },
  {
   "cell_type": "markdown",
   "id": "dee7d9eb",
   "metadata": {},
   "source": [
    "Applying the Euler-Lagrange Operator *__[6]__*, \n",
    "\n",
    "$$\n",
    "\\begin{equation}\n",
    "\\frac{d}{dt}\\left(\\frac{\\partial\\mathcal{L}}{\\partial\\theta_{i}}\\right) = \\frac{\\partial\\mathcal{L}}{\\partial\\theta_{i}}\\text{ for i=1,2}\n",
    "\\end{equation}\n",
    "$$\n",
    "on Equation (8) yields the following set of equations:\n",
    "$$\n",
    "\\begin{equation}\n",
    "\\left(m_{1}+m{2}\\right)l_{1}^{2}\\ddot{\\theta}_{1}+m_{2}l_{1}l_{2}\\ddot{\\theta}_{2}\\cos\\left(\\theta_{1}-\\theta_{2}\\right) =-m_{2}l_{1}l_{2}\\dot{\\theta}_{2}^{2}\\sin\\left(\\theta_{1} - \\theta_{2}\\right)-\\left(m_{1}+m_{2}\\right)gl_{1}\\sin\\left(\\theta_{1}\\right)\n",
    "\\tag{9.1}\n",
    "\\end{equation}\n",
    "$$\n",
    "\n",
    "$$\n",
    "\\begin{equation}\n",
    "m_{2}l_{1}l_{2}\\ddot{\\theta}_{1}\\cos\\left(\\theta_{1}-\\theta_{2}\\right) + m_{2}l_{2}^{2}\\ddot{\\theta}_{2} = m_{2}l_{1}l_{2}\\dot{\\theta}_{1}^{2}\\sin\\left(\\theta_{1}-\\theta_{2}\\right)-m_{2}gl_{2}\\sin\\left(\\theta_{2}\\right).\n",
    "\\tag{9.2}\n",
    "\\end{equation}\n",
    "$$\n",
    "\n",
    "Let the following substitutions take place,\n",
    "$$\n",
    "\\begin{equation}\n",
    "\\begin{split}\n",
    "a_{1} &= \\left(m_{1}+m_{2}\\right)l_{1}^{2}\\\\\n",
    "b_{1} &= m_{2}l_{1}l_{2}\\cos\\left(\\theta_{1}-\\theta_{2}\\right)\\\\\n",
    "c_{1} &= -m_{2}l_{1}l_{2}\\sin\\left(\\theta_{1} - \\theta_{2}\\right)\\\\\n",
    "d_{1} &= -\\left(m_{1}+m_{2}\\right)gl_{1}\\sin\\left(\\theta_{1}\\right)\\\\\n",
    "a_{2} &= b_{1}\\\\\n",
    "b_{2} &= m_{2}l_{2}^{2}\\\\\n",
    "c_{2} &= -c_{1}\\\\\n",
    "d_{2} &= -m_{2}gl_{2}\\sin\\left(\\theta_{2}\\right)\\\\\n",
    "\\end{split}\n",
    "\\tag{10}\n",
    "\\end{equation}\n",
    "$$\n",
    "Making (9.1) and (9.2),\n",
    "\n",
    "$$\n",
    "\\begin{equation}\n",
    "a_{1}\\ddot{\\theta}_{1}+b_{1}\\ddot{\\theta}_{2} =c_{1}\\dot{\\theta}_{2}^{2}+d_{1}\n",
    "\\tag{11.1}\n",
    "\\end{equation}\n",
    "$$\n",
    "$$\n",
    "\\begin{equation}\n",
    "b_{1}\\ddot{\\theta}_{1} + b_{2}\\ddot{\\theta}_{2} = -c_{1}\\dot{\\theta}_{1}^{2}+d_{2}.\n",
    "\\tag{11.2}\n",
    "\\end{equation}\n",
    "$$\n",
    "\n",
    "Setting up (11.1) and (11.2) into a system of equations,\n",
    "\n",
    "$$\n",
    "\\begin{equation}\n",
    "\\begin{bmatrix}\n",
    "a_{1} & b_{1}\\\\\n",
    "b_{1} & b_{2}\\\\\n",
    "\\end{bmatrix}\n",
    "\\begin{bmatrix}\n",
    "\\ddot{\\theta}_{1}\\\\\n",
    "\\ddot{\\theta}_{2}\n",
    "\\end{bmatrix} \n",
    "=\n",
    "\\begin{bmatrix}\n",
    "c_{1}\\dot{\\theta}_{2}^{2} & d_{1}\\\\\n",
    "-c_{1}\\dot{\\theta}_{1}^{2} & d_{2}\\\\\n",
    "\\end{bmatrix}.\n",
    "\\tag{12}\n",
    "\\end{equation}\n",
    "$$\n",
    "\n",
    "Equation (12) has the following form,\n",
    "$$\n",
    "\\begin{equation}\n",
    "A\\vec{x}=B.\n",
    "\\end{equation}\n",
    "$$\n",
    "Where A and B are (2x2) matrices, if the determinant of A is not zero, we can solve for $\\vec{x}$ *__[2]__*. Using,\n",
    "$$\n",
    "\\begin{equation}\n",
    "\\vec{x}=A^{-1}B=\\frac{1}{det(A)}\n",
    "\\begin{bmatrix}\n",
    "a_{22} & -a_{12}\\\\\n",
    "-a_{21} & a_{11}\\\\\n",
    "\\end{bmatrix}\n",
    "\\begin{bmatrix}\n",
    "b_{11} & b_{12}\\\\\n",
    "b_{21} & b_{22}\\\\\n",
    "\\end{bmatrix}\n",
    "\\tag{13}\n",
    "\\end{equation}\n",
    "$$\n",
    "where $det(A)= a_{11}a_{22}-a_{12}a_{21}$.\n",
    "\n",
    "Applying Equation (12) to (11) yields,\n",
    "\n",
    "$$\n",
    "\\begin{equation}\n",
    "\\begin{bmatrix}\n",
    "\\ddot{\\theta}_{1}\\\\\n",
    "\\ddot{\\theta}_{2}\n",
    "\\end{bmatrix} \n",
    "=\n",
    "\\frac{1}{a_{1}b_{2}-b_{1}^{2}}\n",
    "\\begin{bmatrix}\n",
    "b_{2} & -b_{1}\\\\\n",
    "-b_{1} & a_{1}\\\\\n",
    "\\end{bmatrix}\n",
    "\\begin{bmatrix}\n",
    "c_{1}\\dot{\\theta}_{2}^{2} & d_{1}\\\\\n",
    "-c_{1}\\dot{\\theta}_{1}^{2} & d_{2}\\\\\n",
    "\\end{bmatrix}.\n",
    "\\tag{14}\n",
    "\\end{equation}\n",
    "$$\n",
    "\n",
    "Multiplying the matrices, gives the differential equations that describe the respective angles,\n",
    "\n",
    "$$\n",
    "\\begin{equation}\n",
    "\\begin{bmatrix}\n",
    "\\ddot{\\theta}_{1}\\\\\n",
    "\\ddot{\\theta}_{2}\n",
    "\\end{bmatrix}\n",
    "=\n",
    "\\begin{bmatrix}\n",
    "\\frac{b_{2}c_{1}\\omega_{2}^{2} + b_{1}c_{1}\\omega^{2}_{1} + b_{2}d_{1}-b_{1}d_{2}}{a_{1}b_{2}-b_{1}^{2}}\\\\\n",
    "\\frac{-b_{1}c_{1}\\omega_{2}^{2} - a_{1}c_{1}\\omega^{2}_{1} - b_{1}d_{1}+a_{1}d_{2}}{a_{1}b_{2}-b_{1}^{2}}\\\\\n",
    "\\end{bmatrix}\n",
    "\\tag{15}\n",
    "\\end{equation}\n",
    "$$\n",
    "\n",
    "Making use of the following substitutions, $\\dot{\\theta}=\\omega_{i}$ and $\\ddot{\\theta} = \\dot{\\omega}_{i}$, transforms Equation (12) into,\n",
    "\n",
    "$$\n",
    "\\begin{equation}\n",
    "\\begin{bmatrix}\n",
    "\\dot{\\theta}_{1}\\\\\n",
    "\\dot{\\theta}_{2}\\\\\n",
    "\\dot{\\omega}_{1}\\\\\n",
    "\\dot{\\omega}_{2}\n",
    "\\end{bmatrix}\n",
    "=\n",
    "\\begin{bmatrix}\n",
    "\\omega_{1}\\\\\n",
    "\\omega_{2}\\\\\n",
    "\\frac{b_{2}c_{1}\\omega_{2}^{2} + b_{1}c_{1}\\omega^{2}_{1} + b_{2}d_{1}-b_{1}d_{2}}{a_{1}b_{2}-b_{1}^{2}}\\\\\n",
    "\\frac{-b_{1}c_{1}\\omega_{2}^{2} - a_{1}c_{1}\\omega^{2}_{1} - b_{1}d_{1}+a_{1}d_{2}}{a_{1}b_{2}-b_{1}^{2}}\\\\\n",
    "\\end{bmatrix}\n",
    "\\tag{14}\n",
    "\\end{equation}\n",
    "$$"
   ]
  },
  {
   "cell_type": "markdown",
   "id": "01e61e1e",
   "metadata": {},
   "source": [
    "Now that we have the differential equations for $\\theta_{1}$ and $\\theta_{2}$, let's use the small angle approximations for sine and cosine,\n",
    "$$\n",
    "\\begin{equation}\n",
    "\\begin{split}\n",
    "\\sin\\left(\\theta\\right) &\\approx \\theta\\\\\n",
    "\\cos\\left(\\theta\\right) &\\approx 1 - \\frac{\\theta^{2}}{2} \\approx 1.\n",
    "\\end{split}\n",
    "\\tag{15}\n",
    "\\end{equation}\n",
    "$$"
   ]
  },
  {
   "cell_type": "markdown",
   "id": "411abfbc",
   "metadata": {},
   "source": [
    "Applying the small angle approximations to Equation (10),\n",
    "$$\n",
    "\\begin{equation}\n",
    "\\begin{split}\n",
    "b'_{1} &\\approx m_{2}l_{1}l_{2}\\\\\n",
    "c'_{1} &\\approx -m_{2}l_{1}l_{2}\\left(\\theta_{1} - \\theta_{2}\\right)\\\\\n",
    "d'_{1} &\\approx -\\left(m_{1}+m_{2}\\right)gl_{1}\\left(\\theta_{1}\\right)\\\\\n",
    "a'_{2} &= b_{1}\\\\\n",
    "c'_{2} &= -c'_{1}\\\\\n",
    "d'_{2} &\\approx -m_{2}gl_{2}\\left(\\theta_{2}\\right)\\\\\n",
    "\\end{split}\n",
    "\\tag{16}\n",
    "\\end{equation}\n",
    "$$\n",
    "\n",
    "Making the appropriate substituions in (14), gives the approximation of the differential equations,\n",
    "$$\n",
    "\\begin{equation}\n",
    "\\begin{bmatrix}\n",
    "\\dot{\\theta}_{1}\\\\\n",
    "\\dot{\\theta}_{2}\\\\\n",
    "\\dot{\\omega}_{1}\\\\\n",
    "\\dot{\\omega}_{2}\n",
    "\\end{bmatrix}\n",
    "\\approx\n",
    "\\begin{bmatrix}\n",
    "\\omega_{1}\\\\\n",
    "\\omega_{2}\\\\\n",
    "\\frac{b_{2}c'_{1}\\omega_{2}^{2} + b'_{1}c'_{1}\\omega^{2}_{1} + b_{2}d'_{1}-b'_{1}d'_{2}}{a_{1}b_{2}-(b'_{1})^{2}}\\\\\n",
    "\\frac{-b'_{1}c'_{1}\\omega_{2}^{2} - a_{1}c'_{1}\\omega^{2}_{1} - b'_{1}d'_{1}+a_{1}d'_{2}}{a_{1}b_{2}-(b'_{1})^{2}}\\\\\n",
    "\\end{bmatrix}\n",
    "\\tag{17}\n",
    "\\end{equation}\n",
    "$$"
   ]
  },
  {
   "cell_type": "markdown",
   "id": "2e11968e",
   "metadata": {},
   "source": [
    "## Double Pendulum Class"
   ]
  },
  {
   "cell_type": "markdown",
   "id": "76690323",
   "metadata": {},
   "source": [
    "The *Double Pendulum* Class was created to construct double pendulum objects. It follows a similar format to the *Single Pendulum* Class, but it doesn't include a *canned* function since it couldn't handle the definition of gamma used. Here is what the *Double Pendulum* Class contains:\n",
    "\n",
    "+ \\_\\_init\\_\\_(self, l1, l2, m1, m2, g, a, f,small):\n",
    "    + The constructor for the class.\n",
    "    + The parameters correspond with what is needed to describe the system before the initial conditions are given.\n",
    "    + It is nearly identical to the constructor in the *SinglePendulum* class, with the addition of the length and mass of the second pendulum.\n",
    "+ de1(self,x0,x1,x2,x3, t):\n",
    "    + This function simply calculates $\\dot{\\omega}_{1}$ shown in Equations (14) and (16).\n",
    "    + With the parameter *small*, the function determines if it uses the expression in (16) or (14), the same process is used in *de2*.\n",
    "    + The parameters this function uses are easily described as: $(x0, x1, x2, x3) \\to (\\theta_{1}, \\omega_{1}, \\theta_{1}, \\omega_{2})$.\n",
    "+ de2(self,x0,x1,x2,x3,t):\n",
    "    + This function computes $\\dot{\\omega}_{2}$, shown in Equations (14) and (16).\n",
    "    + The parameters this function uses are easily described as: $(x0, x1, x2, x3) \\to (\\theta_{1}, \\omega_{1}, \\theta_{1}, \\omega_{2})$.\n",
    "+ rk4(self, x, t, dt):\n",
    "    + Handles  the Runge-Kutta method for differential equations. *__[5]__*.\n",
    "    + The process followed for algorithm is outlined below:\n",
    "\n",
    "      Starting from the system of equations we have,\n",
    "      $$\n",
    "      \\begin{equation}\n",
    "      \\begin{split}\n",
    "      \\dot{\\theta}_{1} &= \\omega_{1}\\\\\n",
    "      \\dot{\\theta}_{2} &= \\omega_{2}\\\\\n",
    "      \\dot{\\omega}_{1}&= F_{1}\\left(\\theta_{1}, \\omega_{1}, \\theta_{2}, \\omega_{2}\\right)\\\\\n",
    "      \\dot{\\omega}_{2}&= F_{2}\\left(\\theta_{1}, \\omega_{1}, \\theta_{2}, \\omega_{2}\\right)\\\\\n",
    "      \\end{split}\n",
    "      \\tag{18.1}\n",
    "      \\end{equation}\n",
    "      $$\n",
    "      Where $F_1$ and $F_2$ are the functions *de$1$* and *de$2$*, respectively.\n",
    " \n",
    "      Since the variables in $F_{i}$ are all implicitly dependent on time, the Runge-Kutta Method has to include $k_{ij}$ terms for all of its parameters *__[1]__*. See below,\n",
    "      $$\n",
    "      \\begin{equation}\n",
    "      \\begin{split}\n",
    "      k_{11} &= h\\omega_{1n}\\\\\n",
    "      k_{21} &= h\\omega_{2n}\\\\\n",
    "      k_{31} &= hF_{1}\\left(\\theta_{1n},\\omega_{1n}, \\theta_{2n},\\omega_{2n}\\right)\\\\\n",
    "      k_{41} &= hF_{2}\\left(\\theta_{1n},\\omega_{1n}, \\theta_{2n},\\omega_{2n}\\right)\\\\\n",
    "      k_{12} &= h\\left(\\omega_{1n}+\\frac{k_{11}}{2}\\right)\\\\\n",
    "      k_{22} &= h\\left(\\omega_{2n}+\\frac{k_{21}}{2}\\right)\\\\\n",
    "      k_{32} &= hF_{1}\\left(\\theta_{1n}+\\frac{k_{11}}{2},\\omega_{1n}+\\frac{k_{31}}{2}, \\theta_{2n}+\\frac{k_{21}}{2},\\omega_{2n}+\\frac{k_{41}}{2}\\right)\\\\\n",
    "      k_{42} &= hF_{2}\\left(\\theta_{1n}+\\frac{k_{11}}{2},\\omega_{1n}+\\frac{k_{31}}{2}, \\theta_{2n}+\\frac{k_{21}}{2},\\omega_{2n}+\\frac{k_{41}}{2}\\right)\\\\\n",
    "      k_{13} &= h\\left(\\omega_{1n}+\\frac{k_{12}}{2}\\right)\\\\\n",
    "      k_{23} &= h\\left(\\omega_{2n}+\\frac{k_{22}}{2}\\right)\\\\\n",
    "      k_{33} &= hF_{1}\\left(\\theta_{1n}+\\frac{k_{12}}{2},\\omega_{1n}+\\frac{k_{32}}{2}, \\theta_{2n}+\\frac{k_{22}}{2},\\omega_{2n}+\\frac{k_{42}}{2}\\right)\\\\\n",
    "      k_{43} &= hF_{2}\\left(\\theta_{1n}+\\frac{k_{12}}{2},\\omega_{1n}+\\frac{k_{32}}{2}, \\theta_{2n}+\\frac{k_{22}}{2},\\omega_{2n}+\\frac{k_{42}}{2}\\right)\\\\\n",
    "      k_{14} &= h\\left(\\omega_{1n}+k_{13}\\right)\\\\\n",
    "      k_{24} &= h\\left(\\omega_{2n}+k_{23}\\right)\\\\\n",
    "      k_{34} &= hF_{1}\\left(\\theta_{1n}+k_{13},\\omega_{1n}+k_{33}, \\theta_{2n}+k_{23},\\omega_{2n}+k_{43}\\right)\\\\\n",
    "      k_{44} &= hF_{2}\\left(\\theta_{1n}+k_{13},\\omega_{1n}+k_{33}, \\theta_{2n}+k_{23},\\omega_{2n}+k_{43}\\right)\\\\\n",
    "      \\end{split}\n",
    "      \\tag{18.2}\n",
    "      \\end{equation}\n",
    "      $$\n",
    "      Once these coefficients are calculated, angular velocites and angles are calculated,\n",
    "      $$\n",
    "      \\begin{equation}\n",
    "      \\begin{split}\n",
    "      \\theta_{1n} &= \\theta_{1n-1} + \\frac{1}{6}\\left(k_{11}+2k_{12}+2k_{13}+k_{14}\\right) + \\mathcal{O}\\left(h^{5}\\right)\\\\\n",
    "      \\theta_{2n} &= \\theta_{2n-1} + \\frac{1}{6}\\left(k_{21}+2k_{22}+2k_{23}+k_{24}\\right) + \\mathcal{O}\\left(h^{5}\\right)\\\\\n",
    "      \\omega_{1n} &= \\omega_{1n-1} + \\frac{1}{6}\\left(k_{31}+2k_{32}+2k_{33}+k_{34}\\right) + \\mathcal{O}\\left(h^{5}\\right)\\\\\n",
    "      \\omega_{2n} &= \\omega_{2n-1} + \\frac{1}{6}\\left(k_{41}+2k_{42}+2k_{43}+k_{44}\\right) + \\mathcal{O}\\left(h^{5}\\right)\\\\\n",
    "      \\end{split}\n",
    "      \\tag{18.3}\n",
    "      \\end{equation}\n",
    "      $$"
   ]
  },
  {
   "cell_type": "markdown",
   "id": "e77feb9f-bf01-4e17-8759-3706e5860684",
   "metadata": {},
   "source": [
    "+ plotting(self,x0, y0, y1, y2, y3, t):\n",
    "  + Handles the plotting for the different angles and their angular velocities.\n",
    "  + The parameters it takes:\n",
    "    + Initial conditions\n",
    "    + The computed value for the first angle\n",
    "    + The first angular frequency\n",
    "    + The second angle\n",
    "    + The second angular frequency\n",
    "    + The time range.\n",
    "  + Treats the plot as a matrix with two rows and three columns\n",
    "    + The rows correspond to the different angles\n",
    "    + The columns are for: angle v. t, angular frequency v. t, and the phase plot"
   ]
  },
  {
   "cell_type": "markdown",
   "id": "c9207f2b-349d-4c05-8cf7-c5d4a522c4c5",
   "metadata": {},
   "source": [
    "+ ep(self):\n",
    "  + The purpose of this function is to compute both the eigen values and eigen vectors.\n",
    "  + The parameter is simply the object and the attributes that come with it."
   ]
  },
  {
   "cell_type": "markdown",
   "id": "468303e6",
   "metadata": {},
   "source": [
    "__Notes__:\n",
    "+ *To produce over the top motion, provide kinetic energy. Omega has to have a non-zero IV*.\n",
    "+ The Euler Method produces a good approximation for the calculation of the angles.\n",
    "+ When the masses were set to $m_{1} = 100.0\\,kg$ and $m_{2} = 10.0\\,kg$ there would be an overflow error.\n",
    "+ Masses can't both be 10 kg, it seems to work only with masses equal to 10; otherwise I get an overflow error.\n",
    "+ Also won't run if the length of the strings is greater than 0.5, overflow error."
   ]
  },
  {
   "cell_type": "code",
   "execution_count": null,
   "id": "213f2cb4",
   "metadata": {},
   "outputs": [],
   "source": [
    "import numpy as np\n",
    "import matplotlib.pyplot as plt\n",
    "from scipy import linalg, matrix\n",
    "from numpy.linalg import eig\n",
    "\n",
    "class doublePendulum(object):\n",
    "    \"\"\"\n",
    "    Let x = [x[0], x[1], x[2], x[3]]\n",
    "    where x[0] is the initial angle corresponding to theta one, x[1] is the angular frequency of theta one, etc.\n",
    "    The system we will be defining is:\n",
    "    y[0] = x[1]\n",
    "    y[1] = first element of the system of equations\n",
    "    y[2] = x[3]\n",
    "    y[3] = second element of the system of equations    \n",
    "    (1). __init__: Initializes the coefficients used in the equations\n",
    "    (2). de1: A function that represents the differential equation of the first angle, just to contain the func.\n",
    "    (3). de2: A function that represents the differential equations for the second angle, just to contain the func.\n",
    "    (4). rk4: Function that solves the system of differential equations.\n",
    "    (5). plotting: Takes care of the plotting for the class, showing the angle's plot over time, the angular frequency over time\n",
    "                    as well as its phase plot.\n",
    "\"\"\"\n",
    "    def __init__(self, l1, l2, m1, m2, g, a, f,small):\n",
    "        self.l1 = l1\n",
    "        self.l2 = l2\n",
    "        self.m1 = m1\n",
    "        self.m2 = m2\n",
    "        self.g = g\n",
    "        self.a = a\n",
    "        self.f = f\n",
    "        self.small = small\n",
    "    #first differential equation, just to contain it\n",
    "    def de1(self,x0,x1,x2,x3, t):\n",
    "        #x0 is theta1\n",
    "        #x1 is omega1\n",
    "        #x2 is theta2\n",
    "        #x3 is omega2\n",
    "        l1 = self.l1\n",
    "        l2 = self.l2\n",
    "        m1 = self.m1\n",
    "        m2 = self.m2\n",
    "        g = self.g\n",
    "        a = self.a\n",
    "        f = self.f\n",
    "        small = self.small\n",
    "        w = 0.8\n",
    "        if small == False:\n",
    "            a1 = (m1+m2)*l1*l1\n",
    "            b1 = m2*l1*l2*np.cos(x0 - x2)\n",
    "            c1 = -m2*l1*l2*np.sin(x0-x2)\n",
    "            d1 = -(m1+m2)*g*l1*np.sin(x0)\n",
    "            a2 = b1\n",
    "            b2 = m2*l2*l2\n",
    "            c2 = -c1\n",
    "            d2 = -m2*g*l2*np.sin(x2)\n",
    "            term = 1./(a1*b2-b1*b1)\n",
    "            de1 = term*(b2*c1*x3*x3 + b1*c1*x1 + b2*d1 - b1*d2)\n",
    "        else:\n",
    "            a1 = (m1+m2)*l1*l1\n",
    "            b1 = m2*l1*l2\n",
    "            c1 = -m2*l1*l2*(x0-x2)\n",
    "            d1 = -(m1+m2)*g*l1*(x0)\n",
    "            a2 = b1\n",
    "            b2 = m2*l2*l2\n",
    "            c2 = -c1\n",
    "            d2 = -m2*g*l2*(x2)\n",
    "            term = 1./(a1*b2-b1*b1)\n",
    "            de1 = term*(b2*c1*x3*x3 + b1*c1*x1 + b2*d1 - b1*d2)\n",
    "        return de1 - a*x1 + f*np.cos(w*t)\n",
    "\n",
    "            \n",
    "    # second differential equation, just to contain it\n",
    "    def de2(self,x0,x1,x2,x3,t):\n",
    "        #x0 is theta1\n",
    "        #x1 is omega1\n",
    "        #x2 is theta2\n",
    "        #x3 is omega2\n",
    "        l1 = self.l1\n",
    "        l2 = self.l2\n",
    "        m1 = self.m1\n",
    "        m2 = self.m2\n",
    "        g = self.g\n",
    "        a = self.a\n",
    "        f = self.f\n",
    "        small = self.small\n",
    "        w = 0.8\n",
    "        fac = self.de1(x0,x1,x2,x3,t)\n",
    "        if small == False:\n",
    "            a1 = (m1+m2)*l1*l1\n",
    "            b1 = m2*l1*l2*np.cos(x0 - x2)\n",
    "            c1 = -m2*l1*l2*np.sin(x0-x2)\n",
    "            d1 = -(m1+m2)*g*l1*np.sin(x0)\n",
    "            a2 = b1\n",
    "            b2 = m2*l2*l2\n",
    "            c2 = -c1\n",
    "            d2 = -m2*g*l2*np.sin(x2)\n",
    "            term = 1./(a1*b2-b1*b1)\n",
    "            de2 = -b1*c1*x3*x3 - a1*c1*x1*x1 - b1*d1 + a1*d2\n",
    "        else:\n",
    "            a1 = (m1+m2)*l1*l1\n",
    "            b1 = m2*l1*l2\n",
    "            c1 = -m2*l1*l2*(x0-x2)\n",
    "            d1 = -(m1+m2)*g*l1*(x0)\n",
    "            a2 = b1\n",
    "            b2 = m2*l2*l2\n",
    "            c2 = -c1\n",
    "            d2 = -m2*g*l2*(x2)\n",
    "            term = 1./(a1*b2-b1*b1)\n",
    "            de2 = -b1*c1*x3*x3 - a1*c1*x1*x1 - b1*d1 + a1*d2\n",
    "        return de2-a*x3 + fac\n",
    "    def rk4(self, x, t, dt):\n",
    "        N = len(t)\n",
    "        h = dt\n",
    "        # 0_1\n",
    "        x0 = np.zeros(N)\n",
    "        x0[0] = x[0]\n",
    "        # w_1\n",
    "        x1 = np.zeros(N)\n",
    "        x1[0] = x[1]\n",
    "        # 0_2\n",
    "        x2 = np.zeros(N)\n",
    "        x2[0] = x[2]\n",
    "        # w_2\n",
    "        x3 = np.zeros(N)\n",
    "        x3[0] = x[3]\n",
    "        '''\n",
    "        x0 corresponds to theta one\n",
    "        x1 corresponds to omega one\n",
    "        x2 corresponds to theta two\n",
    "        x3 corresponds to omega two\n",
    "        '''\n",
    "        for i in range(1,N):\n",
    "            # First set of RK Coefficients\n",
    "            k11 = h*self.de1(x0[i-1], x1[i-1], x2[i-1], x3[i-1], t[i-1])\n",
    "            k21 = h*(self.de2(x0[i-1], x1[i-1], x2[i-1], x3[i-1], t[i-1]))\n",
    "            k31 = h*(x1[i-1])\n",
    "            k41 = h*(x3[i-1])\n",
    "            # Second set of RK Coefficients\n",
    "            k12 = h*self.de1(x0[i-1]+k31/2., x1[i-1]+k11/2., x2[i-1]+k41/2., x3[i-1]+k21/2., t[i-1])\n",
    "            k22 = h*self.de2(x0[i-1]+k31/2., x1[i-1]+k11/2., x2[i-1]+k41/2., x3[i-1]+k21/2., t[i-1])\n",
    "            k32 = h*(x1[i-1]+k31/2.)\n",
    "            k42 = h*(x3[i-1]+k41/2.)\n",
    "            # Third set of RK Coefficients\n",
    "            k13 = h*self.de1(x0[i-1]+k32/2., x1[i-1]+k12/2., x2[i-1]+k42/2., x3[i-1]+k22/2., t[i-1])\n",
    "            k23 = h*self.de2(x0[i-1]+k32/2., x1[i-1]+k12/2., x2[i-1]+k42/2., x3[i-1]+k22/2., t[i-1])\n",
    "            k33 = h*(x1[i-1]+k32/2.)\n",
    "            k43 = h*(x3[i-1]+k42/2.)\n",
    "            # Fourth set of RK Coefficients\n",
    "            k14 = h*self.de1(x0[i-1]+k33, x1[i-1]+k13, x2[i-1]+k43, x3[i-1]+k23, t[i-1])\n",
    "            k24 = h*self.de2(x0[i-1]+k33, x1[i-1]+k13, x2[i-1]+k43, x3[i-1]+k23, t[i-1])\n",
    "            k34 = h*(x1[i-1]+k33)\n",
    "            k44 = h*(x3[i-1]+k43)\n",
    "            # Calculations for the respective variables;\n",
    "            # Omega1, Omega2, Theta1, Theta2\n",
    "            x1[i] = x1[i-1] + (k11 + 2.*k12 + 2.*k13 + k14)/6.0\n",
    "            x3[i] = x3[i-1] + (k21 + 2.*k22 + 2.*k23 + k24)/6.0\n",
    "            x0[i] = x0[i-1] + (k31 + 2.*k32 + 2.*k33 + k34)/6.0\n",
    "            x2[i] = x2[i-1] + (k41 + 2.*k42 + 2.*k43 + k44)/6.0\n",
    "        return x0,x1,x2,x3\n",
    "    \n",
    "    def plotting(self,x0, y0, y1, y2, y3, t):\n",
    "        N = len(t)-1\n",
    "        if self.small == True:\n",
    "            des = \"$\\\\theta$ Approximation\"\n",
    "        else:\n",
    "            des = \"No $\\\\theta$ Approximation\"\n",
    "        fig,z = plt.subplots(2,3, figsize = (15,15))\n",
    "        # For the first angle\n",
    "        z[0][0].plot(t,y0, label = \"RK4 - {}\".format(des))\n",
    "        z[0][0].set_title(\"$\\\\theta_{1}$ versus t\", size = 15)\n",
    "        z[0][0].set_xlabel(\"t [s]\", size = 15)\n",
    "        z[0][0].set_ylabel(\"$\\\\theta$\", size = 15)\n",
    "        z[0][0].legend(loc = \"best\")\n",
    "        z[0][0].grid()\n",
    "        z[0][1].plot(t,y1, label = \"RK4 - {}\".format(des))\n",
    "        z[0][1].set_title(\"$\\dot{\\\\theta}_{1}$ versus t\", size = 15)\n",
    "        z[0][1].set_xlabel(\"t [s]\", size = 15)\n",
    "        z[0][1].set_ylabel(\"$\\dot{\\\\theta}$\", size = 15)\n",
    "        z[0][1].legend(loc = \"best\")\n",
    "        z[0][1].grid()\n",
    "        z[0][2].plot(y0,y1, label = \"RK4 - {}\".format(des))\n",
    "        z[0][2].plot(y0[0],y1[0], 'o', label = \"Start: ({},{})\".format(\"%.2f\"%y0[0],\"%.2f\"%y1[0]))\n",
    "        z[0][2].plot(y0[N],y1[N], 'o', label = \"Finish: ({},{})\".format(\"%.2f\"%y0[N],\"%.2f\"%y1[N]))\n",
    "        z[0][2].set_title(\"$\\dot{\\\\theta}_{1}$ versus $\\\\theta_{1}$\", size =15)\n",
    "        z[0][2].set_xlabel(\"$\\\\theta$\", size = 15)\n",
    "        z[0][2].set_ylabel(\"$\\dot{\\\\theta}$\", size = 15)\n",
    "        z[0][2].legend(loc = \"best\")\n",
    "        z[0][2].grid()\n",
    "        # For the second angle\n",
    "        z[1][0].plot(t,y2, label = \"RK4 - {}\".format(des))\n",
    "        z[1][0].set_title(\"$\\\\theta_{2}$ versus t\", size = 15)\n",
    "        z[1][0].set_xlabel(\"t [s]\", size = 15)\n",
    "        z[1][0].set_ylabel(\"$\\\\theta$\", size = 15)\n",
    "        z[1][0].legend(loc = \"best\")\n",
    "        z[1][0].grid()\n",
    "        z[1][1].plot(t,y3, label = \"RK4 - {}\".format(des))\n",
    "        z[1][1].set_title(\"$\\dot{\\\\theta}_{2}$ versus t\", size = 15)\n",
    "        z[1][1].set_xlabel(\"t [s]\", size = 15)\n",
    "        z[1][1].set_ylabel(\"$\\dot{\\\\theta}$\", size = 15)\n",
    "        z[1][1].legend(loc = \"best\")\n",
    "        z[1][1].grid()\n",
    "        z[1][2].plot(y2,y3, label = \"RK4 - {}\".format(des))\n",
    "        z[1][2].plot(y2[0],y3[0], 'o', label = \"Start: ({},{})\".format(\"%.2f\"%y2[0],\"%.2f\"%y3[0]))\n",
    "        z[1][2].plot(y2[N],y3[N], 'o', label = \"Finish: ({},{})\".format(\"%.2f\"%y2[N],\"%.2f\"%y3[N]))\n",
    "        z[1][2].set_title(\"$\\dot{\\\\theta}_{2}$ versus $\\\\theta_{2}$\", size =15)\n",
    "        z[1][2].set_xlabel(\"$\\\\theta$\", size = 15)\n",
    "        z[1][2].set_ylabel(\"$\\dot{\\\\theta}$\", size = 15)\n",
    "        z[1][2].legend(loc = \"lower left\")\n",
    "        z[1][2].grid()\n",
    "        fig.tight_layout()\n",
    "        plt.show()\n",
    "\n",
    "    def ep(self):\n",
    "        l1 = self.l1\n",
    "        l2 = self.l2\n",
    "        m1 = self.m1\n",
    "        m2 = self.m2\n",
    "        g = self.g\n",
    "        w = np.zeros(2)\n",
    "        a1 = (m1+m2)*l1*l1\n",
    "        b1 = m2*l1*l2\n",
    "        e1 = 2.*b1*b1\n",
    "        e2 = b1*a1 + (l2*b1*b1)/l1 + (g*b1*b1)/l1 + (a1*b1*g)/l1\n",
    "        e3 = (l2*a1*b1)/l1 + (a1*b1*g)/l1 + (a1*b1*g*g)/(l1*l1) - b1*b1\n",
    "        x1 = (-e2 + np.sqrt(e2*e2 - 4.*e1*e3))/(2.*e1) \n",
    "        x2 = (-e2 - np.sqrt(e2*e2 - 4.*e1*e3))/(2.*e1)\n",
    "        w1 = x1\n",
    "        w2 = x2\n",
    "        A1 = np.array([[a1 + b1*w1 + (a1/l1)*g, (b1+ b1*w1)],\n",
    "              [(b1-b1*w1), ((l2*b1)/l1) + b1*w1+ (b1/l1)*g]])\n",
    "        A2 = np.array([[a1 + b1*w2 + (a1/l1)*g, (b1+ b1*w2)],\n",
    "              [(b1-b1*w2), ((l2*b1)/l1) + b1*w2+ (b1/l1)*g]])\n",
    "        u1,v1 = np.linalg.eig(A1)\n",
    "        u2, v2 = np.linalg.eig(A2)\n",
    "        return np.sqrt(w1*-1), np.sqrt(w2*-1)\n",
    "\n",
    "    def plotting2(self, t, y00, y01, y10, y11):\n",
    "        fig,z = plt.subplots(1,2,figsize = (10, 5))\n",
    "        z[0].plot(t, y00, label = \"$\\\\theta_{1}(t)$\")\n",
    "        z[0].plot(t, y01, label = \"$\\\\theta_{2}(t)$\")\n",
    "        z[0].set_title(\"Approximate $\\\\theta_{i}$ versus t\", size = 15)\n",
    "        z[0].set_xlabel(\"t [s]\", size = 15)\n",
    "        z[0].set_ylabel(\"$\\\\theta$\", size = 15)\n",
    "        z[0].legend(loc = \"best\")\n",
    "        z[0].grid()\n",
    "        z[1].plot(t, y10, label = \"$\\\\theta_{1}(t)$\")\n",
    "        z[1].plot(t, y11, label = \"$\\\\theta_{2}(t)$\")\n",
    "        z[1].set_title(\"$\\\\theta_{i}$ versus t\", size = 15)\n",
    "        z[1].set_xlabel(\"t [s]\", size = 15)\n",
    "        z[1].set_ylabel(\"$\\\\theta$\", size = 15)\n",
    "        z[1].legend(loc = \"best\")\n",
    "        z[1].grid()\n",
    "        fig.tight_layout()\n",
    "        plt.show()"
   ]
  },
  {
   "cell_type": "markdown",
   "id": "d71c3d9d-005f-4d4b-8625-fa0b25f13458",
   "metadata": {},
   "source": [
    "## Applying the Double Pendulum Class"
   ]
  },
  {
   "cell_type": "markdown",
   "id": "65838821-7b47-4d84-b193-168b5f611853",
   "metadata": {},
   "source": [
    "For this particular class the casses we will explore are the following:\n",
    "1. First case:\n",
    "   + Small angle approximation, no damping or driving force; $\\alpha = 0$ and $f=0$\n",
    "   + No damping or driving force; $\\alpha = 0$ and $f=0$\n",
    "2. Second case:\n",
    "   + Small angle approximation, damping, $\\alpha = 0.5$ and driving force $f = 0.5$\n",
    "   + Damping, $\\alpha = 0.5$ and driving force $f = 0.5$"
   ]
  },
  {
   "cell_type": "markdown",
   "id": "5b984347-fac6-448a-bf1d-da3df71e3beb",
   "metadata": {},
   "source": [
    "### First Case"
   ]
  },
  {
   "cell_type": "markdown",
   "id": "62080168-19f4-45be-b7b3-1a8ac87167a3",
   "metadata": {},
   "source": [
    "#### Small Angle Approximation"
   ]
  },
  {
   "cell_type": "markdown",
   "id": "0592372e-5a37-496e-802f-68fed40155fe",
   "metadata": {},
   "source": [
    "The first part in case one, will be using the small angle approximation with the following parameters:\n",
    "\n",
    "$$\n",
    "\\begin{equation}\n",
    "\\begin{split}\n",
    "l_{1} &= l_{2} = 1/2\\\\\n",
    "m_{1} &= 10\\\\\n",
    "m_{2} &= 1\\\\\n",
    "g &= 9.81\n",
    "\\end{split}\n",
    "\\tag{19.1}\n",
    "\\end{equation}\n",
    "$$\n",
    "The initial conditions used within the first case will be,\n",
    "$$\n",
    "\\begin{equation}\n",
    "\\vec{x} = \\left(0, 0, \\frac{\\pi}{4}, 0\\right)^{T}.\n",
    "\\tag{19.2}\n",
    "\\end{equation}\n",
    "$$\n",
    "\n",
    "Using these conditions, we construct our Double Pendulum Object and solve the differential equations."
   ]
  },
  {
   "cell_type": "code",
   "execution_count": null,
   "id": "cfed03c9-7403-4df7-9186-bdff9534d4dc",
   "metadata": {},
   "outputs": [],
   "source": [
    "l1, l2, m1, m2, g, a, f,small0 = 0.5, 0.5, 10.,1.,9.81,0.,0.,True\n",
    "p1 = doublePendulum(l1, l2, m1, m2, g, a, f,small0)\n",
    "conv = (np.pi/180.)\n",
    "init0 = [0., 0., 45.*conv, 0.]\n",
    "dt = 0.001\n",
    "T = 2.*np.pi\n",
    "t = np.arange(0.0, 2*T, dt)\n",
    "y00,y01,y02,y03 = p1.rk4(init0, t, dt)"
   ]
  },
  {
   "cell_type": "code",
   "execution_count": null,
   "id": "f79ba1b7-4cc8-4070-84c8-ff3cd740415f",
   "metadata": {},
   "outputs": [],
   "source": [
    "p1.plotting(init0, y00, y01, y02, y03, t)"
   ]
  },
  {
   "cell_type": "markdown",
   "id": "47b8304d-dc94-4aaa-93fd-0e6cb20fc381",
   "metadata": {},
   "source": [
    "__Row One__: Displays the behavior of the first pendulum.\n",
    "+ The first two plots show that the amplitude of the angle and the angular frequency increase over time, and repeats every 12 seconds or so. The final plot displays interesting behavior since it seems that as the phase plot will strike zero again, it loops and starts up again.\n",
    "+ Comparing with row two, column three; it seems that as the second pendulum begins transfering its kinetic energy to potential, the first pendulum begins a new cycle turning its potential energy to kinetic energy. \n",
    "\n",
    "__Row Two__: Displays of the behavior of the second pendulum.\n",
    "+ Again the first two plots display sinusoidal behavior, except that in this case, the increase in amplitude is much more subtle than in the first row. The phase plot seems to expand outward, and then slowly come back to the center past its initial point.\n",
    "+ Based on this behavior if the program ran for a while longer, the green point, would strike (0,0)."
   ]
  },
  {
   "cell_type": "markdown",
   "id": "b2adfcf8-1fe5-4c0a-848b-fde996bf2ed1",
   "metadata": {},
   "source": [
    "#### No Approximation"
   ]
  },
  {
   "cell_type": "markdown",
   "id": "ec4e4874-655a-4243-b021-7ff574c01bdf",
   "metadata": {},
   "source": [
    "The conditions showed in Equations (18.1) and (18.2) will remain the same, the only thing that will change for this new object is the parameter *small*. This parameter will be set to *False*, in order to account for us not taking the small angle approximation."
   ]
  },
  {
   "cell_type": "code",
   "execution_count": null,
   "id": "e384dc96-7288-48e6-939b-35896378eb2e",
   "metadata": {},
   "outputs": [],
   "source": [
    "l1, l2, m1, m2, g, a, f,small2 = 0.5, 0.5, 10.,1.,9.81,0.,0.,False\n",
    "p2 = doublePendulum(l1, l2, m1, m2, g, a, f,small2)\n",
    "y10,y11,y12,y13 = p2.rk4(init0, t, dt)"
   ]
  },
  {
   "cell_type": "code",
   "execution_count": null,
   "id": "33ba4676-f2f5-455c-a252-b6e94b56d26d",
   "metadata": {},
   "outputs": [],
   "source": [
    "p2.plotting(init0, y10, y11, y12, y13, t)"
   ]
  },
  {
   "cell_type": "markdown",
   "id": "e4d3ecc0-92de-4f74-94de-8bdf19a4da4c",
   "metadata": {},
   "source": [
    "__Row One__: Behavior of the first angle.\n",
    "\n",
    "+ Relative to the first set of plots where the angle approximation is taken, the first thing to note is that the amplitudes peak, and then decrease and this seems to be periodic.\n",
    "+ The peak of the angle is about half of that shown in the approximate case.\n",
    "+ The peak of the angular frequency appears to oscillate within [0,1.5] periodically, after about 7-seconds. When compared to the approximate case, this seems to be half the time it takes for this oscillation to take place.\n",
    "+ The phase plot, is very similar but the amount of loops that have happened in clearly less than in the first cycle, and can be attributed to the oscillation of both the angular frequency and angle. This hints at a much faster transfer of energy between potential and kinetic.\n",
    "\n",
    "__Row Two__: Behavior of the second angle.\n",
    "\n",
    "+ The first two plots show a very consistent oscillation pattern until it reaches about 7 seconds, similar to the first angle. Also showing that the time it takes for a cycle is about half, when compared to its approximate counter-part.\n",
    "+ The phase plot shows cycles that the green point has expanded outward, then come back into its original orbit without being on the same path."
   ]
  },
  {
   "cell_type": "markdown",
   "id": "4e50cbcb-481d-4119-9e5b-1bcc5330dae0",
   "metadata": {},
   "source": [
    "In both cases, the angular frequency is started at 0, so there will be no over the top motion. This is also apparent in the shape of the phase plots for both the approximate and non-approximate case, an elliptical orbit."
   ]
  },
  {
   "cell_type": "markdown",
   "id": "33911329-b710-421d-9d8d-e73b908d95a0",
   "metadata": {},
   "source": [
    "### Second Case"
   ]
  },
  {
   "cell_type": "markdown",
   "id": "14092279-0b7c-4266-8399-cf09df4e0324",
   "metadata": {},
   "source": [
    "#### Small Angle Approximation"
   ]
  },
  {
   "cell_type": "markdown",
   "id": "183f5fee-1d9e-4e5b-8a8b-47ba312cc44e",
   "metadata": {},
   "source": [
    "In this case, let the initial conditions and other parameter be the same. The changes will be in the damping coefficient and the driving force, they will take on the values listed in the case description above."
   ]
  },
  {
   "cell_type": "code",
   "execution_count": null,
   "id": "7b291f3a-2109-4d39-aa45-fcda0b3d6682",
   "metadata": {},
   "outputs": [],
   "source": [
    "l1, l2, m1, m2, g, a, f,small = 0.5, 0.5, 10.,1.,9.81,0.5,0.5,True\n",
    "p3 = doublePendulum(l1, l2, m1, m2, g, a, f,small)\n",
    "y20, y21,y22, y23 = p3.rk4(init0, t, dt)"
   ]
  },
  {
   "cell_type": "code",
   "execution_count": null,
   "id": "7db425c6-86ce-4015-96c3-2134b8b3a4bb",
   "metadata": {},
   "outputs": [],
   "source": [
    "p3.plotting(init0, y20, y21,y22, y23, t)"
   ]
  },
  {
   "cell_type": "markdown",
   "id": "03c6abe5-5072-41d1-a078-ff69357c1379",
   "metadata": {},
   "source": [
    "#### No Approximation"
   ]
  },
  {
   "cell_type": "markdown",
   "id": "4a509db2-dd3c-470f-9e3c-7bd1d11d9c02",
   "metadata": {},
   "source": [
    "As before, the change will be in the *small* parameter, it will be set to *False*."
   ]
  },
  {
   "cell_type": "code",
   "execution_count": null,
   "id": "6ee6ad4c-945b-47df-8f04-9ae3f28e71ec",
   "metadata": {},
   "outputs": [],
   "source": [
    "l1, l2, m1, m2, g, a, f,small = 0.5, 0.5, 10.,1.,9.81,0.5,0.5,False\n",
    "p4 = doublePendulum(l1, l2, m1, m2, g, a, f,small)\n",
    "y30, y31,y32, y33 = p4.rk4(init0, t, dt)"
   ]
  },
  {
   "cell_type": "code",
   "execution_count": null,
   "id": "205d9990-659d-4358-b746-6004441fb5ba",
   "metadata": {},
   "outputs": [],
   "source": [
    "p4.plotting(init0, y30, y31,y32, y33, t)"
   ]
  },
  {
   "cell_type": "markdown",
   "id": "316a8cb8-3fb5-48fd-8345-3a433d4845dc",
   "metadata": {},
   "source": [
    "__Comparison of Plots__:\n",
    "+ The small angle and non-approximation plots look very similar. The most noticeable differences is the amplitude of the angle and the angular frequency. The non-approximate case has a slightly lower amplitude, and in som cases it is half of the approximate case.\n",
    "+ The phase plots are also nearly identical, but they end at different points and they only differ slightly."
   ]
  },
  {
   "cell_type": "markdown",
   "id": "7e0b9fc0-5d31-400c-93d4-5f9792f0ca56",
   "metadata": {},
   "source": [
    "Since the approximation is very similar to the non-approximate case, I will be using the approximation to turn the system of equations into an eigen-value problem and find the normal frequency of the system.__*[3]*__"
   ]
  },
  {
   "cell_type": "markdown",
   "id": "84f70f49-ca85-4c7a-8702-5a65e7bd82b9",
   "metadata": {},
   "source": [
    "## Double Pendulum: Normal Modes "
   ]
  },
  {
   "cell_type": "markdown",
   "id": "96554338-ea3c-44a9-a1a7-0bcb5de4219f",
   "metadata": {},
   "source": [
    "Applying Equation (15) to (9.1) and (9.2),\n",
    "\n",
    "$$\n",
    "\\begin{equation}\n",
    "\\begin{split}\n",
    "\\left(m_{1}+m_{2}\\right)l_{1}^{2}\\ddot{\\theta}_{1}+m_{2}l_{1}l_{2}\\ddot{\\theta}_{2} &\\approx \\left[-m_{2}l_{1}l_{2}\\dot{\\theta}_{2}^{2}\\left(\\theta_{1} - \\theta_{2}\\right)-\\left(m_{1}+m_{2}\\right)gl_{1}\\left(\\theta_{1}\\right)\\right]\\\\\n",
    "m_{2}l_{1}l_{2}\\ddot{\\theta}_{1} + m_{2}l_{2}^{2}\\ddot{\\theta}_{2} &\\approx m_{2}l_{1}l_{2}\\dot{\\theta}_{1}^{2}\\left(\\theta_{1}-\\theta_{2}\\right)-m_{2}gl_{2}\\left(\\theta_{2}\\right)\\\\\n",
    "\\end{split}\n",
    "\\end{equation}\n",
    "$$"
   ]
  },
  {
   "cell_type": "markdown",
   "id": "42338664-cf0d-4fbb-9106-876b62f35f3f",
   "metadata": {},
   "source": [
    "Noting that the angular velocities for both pendulums must be the same, and rearanging,\n",
    "\n",
    "$$\n",
    "\\begin{equation}\n",
    "\\left(m_{1}+m_{1}\\right)l_{1}^{2}\\ddot{\\theta}_{1}+m_{2}l_{1}l_{2}\\ddot{\\theta}_{2} \\approx \\left[-m_{2}l_{1}l_{2}\\omega^{2}-\\left(m_{1}+m_{2}\\right)gl_{1}\\right]\\theta_{1}-m_{2}l_{1}l_{2}\\omega^{2}\\theta_{2}\n",
    "\\tag{20.1}\n",
    "\\end{equation}\n",
    "$$\n",
    "\n",
    "$$\n",
    "\\begin{equation}\n",
    "m_{2}l_{1}l_{2}\\ddot{\\theta}_{1} + m_{2}l_{2}^{2}\\ddot{\\theta}_{2} \\approx m_{2}l_{1}l_{2}\\omega^{2}\\theta_{1}+\\left[-m_{2}l_{1}l_{2}\\omega^{2}-m_{2}gl_{2}\\right]\\theta_{2}\n",
    "\\tag{20.2}\n",
    "\\end{equation}\n",
    "$$\n",
    "\n",
    "Setting the two equations above as an eigen-value problem yields,\n",
    "$$\n",
    "\\begin{equation}\n",
    "\\begin{bmatrix}\n",
    "\\left(m_{1}+m_{2}\\right)l_{1}^{2} & m_{2}l_{1}l_{2}\\\\\n",
    "m_{2}l_{1}l_{2} & m_{2}l_{2}^{2}\\\\\n",
    "\\end{bmatrix}\n",
    "\\begin{bmatrix}\n",
    "\\ddot{\\theta}_{1}\\\\\n",
    "\\ddot{\\theta}_{2}\\\\\n",
    "\\end{bmatrix}\n",
    "\\approx\n",
    "\\begin{bmatrix}\n",
    "\\left[-m_{2}l_{1}l_{2}\\omega^{2}-\\left(m_{1}+m_{2}\\right)gl_{1}\\right] & -m_{2}l_{1}l_{2}\\omega^{2}\\\\\n",
    "m_{2}l_{1}l_{2}\\omega^{2} & \\left[-m_{2}l_{1}l_{2}\\omega^{2}-m_{2}gl_{2}\\right]\n",
    "\\end{bmatrix}\n",
    "\\begin{bmatrix}\n",
    "\\theta_{1}\\\\\n",
    "\\theta_{2}\\\\\n",
    "\\end{bmatrix}\n",
    "\\tag{21}\n",
    "\\end{equation}\n",
    "$$"
   ]
  },
  {
   "cell_type": "markdown",
   "id": "c7fe2423-0879-4af4-9093-4a914b3d62e2",
   "metadata": {},
   "source": [
    "Solving Equation (21) for the frequencies, yielded an equations of the form,\n",
    "\n",
    "$$\n",
    "\\begin{equation}\n",
    "e_{1}\\omega^{4} + e_{2}\\omega^{2} + e_{3} = 0\n",
    "\\end{equation}\n",
    "$$\n",
    "where $e_{1}, e_{2}, e_{3}$ are all constants. This equation is solved using the quadratic equation by simply solving for $\\omega^{2}$, once this value was obtained, the eiegen-vectors were found *__[3]__*. Based on Equation (21), the eigen-values don't depend on anything other than the constraints within the system; mass, and string length. There has to be a combination that will produce some sort of stable behavior."
   ]
  },
  {
   "cell_type": "markdown",
   "id": "fcaa088a-3d12-43ec-8c1d-8f4c8a17d0ae",
   "metadata": {},
   "source": [
    "The idea is to use the eigen values obtained from the approximate case to see if there is some sort of stable behavior when those values are used within the non-approximate case. To compare the two situations, first I will construct two different double pendulum objects, set their boolean parameter, *small*, to *True* for the first and *False* for the second object. Then call the *ep()* instance, to obtain the eigen values, and finally set these values as the initial conditions *__[3]__*."
   ]
  },
  {
   "cell_type": "markdown",
   "id": "5a390ea8-40e9-4895-924b-de7354d9aba6",
   "metadata": {},
   "source": [
    "The following coefficients will be used:\n",
    "+ $l_{1} = 0.5$\n",
    "+ $l_{2} = \\frac{l_{1}}{5}$\n",
    "+ $m_{1} = 10$\n",
    "+ $m_{2} = \\frac{m_{1}}{10}$\n",
    "+ When there is damping and driving force, the values will simply be 0.5."
   ]
  },
  {
   "cell_type": "code",
   "execution_count": null,
   "id": "eda4bf06-8f45-4bac-9aa2-477f94c2a0ef",
   "metadata": {},
   "outputs": [],
   "source": [
    "# Double pendulum using the small angle approximation with damping and driving force\n",
    "l1, l2, m1, m2, g, a, f,small6 = 0.5, 0.1, 10.,1.,9.81,0.5,0.5,True\n",
    "p6 = doublePendulum(l1, l2, m1, m2, g, a, f,small6)\n",
    "\n",
    "u1, u2 = p6.ep()\n",
    "init0 = [15*conv, u1*conv, 15*conv, u2*conv]\n",
    "\n",
    "# Double pendulum with damping and driving force\n",
    "l1, l2, m1, m2, g, a, f,small7 = 0.5, 0.1, 10.,1.,9.81,0.5,0.5,False\n",
    "p7 = doublePendulum(l1, l2, m1, m2, g, a, f,small7)\n",
    "init1 = [175*conv, u1*conv, 175*conv, u2*conv]\n",
    "\n",
    "y60, y61, y62, y63 = p6.rk4(init0, t, dt)\n",
    "y70, y71, y72, y73 = p7.rk4(init1, t, dt)"
   ]
  },
  {
   "cell_type": "code",
   "execution_count": null,
   "id": "5df84043-1a67-4717-bbcd-0d4ab619498e",
   "metadata": {},
   "outputs": [],
   "source": [
    "p6.plotting2(t, y60, y62, y70, y72)"
   ]
  },
  {
   "cell_type": "markdown",
   "id": "0c39cb04-f11e-482f-86e5-05f43257367a",
   "metadata": {},
   "source": [
    "In the case in which the small angle approximation is made, the inital angles for the pendula is $\\frac{\\pi}{6}$, but for the non-approximate case the initial angles are $\\frac{\\pi}{2}$. The initial value of their angular frequencies are the eigen values we calculated.\n",
    "\n",
    "+ __Left Figure__:\n",
    "  + The angles behave as if they were a single pendulum going in opposite directions.\n",
    "  + The plot shows behavior corresponding to a single damped pendulum, meaning both pendulums behave as if the other was not there.\n",
    "+ __Right Figure__:\n",
    "  + This figure corresponds to the case where the small angle approximation is not used.\n",
    "  + The figure shows the second angle, orange, extending past both positive pi before slowly declining due to damping."
   ]
  },
  {
   "cell_type": "markdown",
   "id": "d5591213-0ce8-4cf4-8d94-fdcf37247e2e",
   "metadata": {},
   "source": [
    "As a sanity check, I will be plotting the same objects without damping or driving force, to see if they truly resemble a normal mode."
   ]
  },
  {
   "cell_type": "code",
   "execution_count": null,
   "id": "2d426858-93dc-4319-b3d0-2ddfee851574",
   "metadata": {},
   "outputs": [],
   "source": [
    "# Double pendulum using the small angle approximation without damping or driving force\n",
    "l1, l2, m1, m2, g, a, f,small8 = 0.5, 0.1, 10.,1.,9.81,0.,0.,True\n",
    "p8 = doublePendulum(l1, l2, m1, m2, g, a, f,small8)\n",
    "u1, u2 = p8.ep()\n",
    "# Double pendulum without damping or driving force\n",
    "l1, l2, m1, m2, g, a, f,small9 = 0.5, 0.1, 10.,1.,9.81,0.,0.,False\n",
    "p9 = doublePendulum(l1, l2, m1, m2, g, a, f,small9)\n",
    "\n",
    "y80, y81, y82, y83 = p8.rk4(init0, t, dt)\n",
    "y90, y91, y92, y93 = p9.rk4(init1, t, dt)"
   ]
  },
  {
   "cell_type": "code",
   "execution_count": null,
   "id": "ca670804-64aa-4299-8a82-b549a4b2c588",
   "metadata": {},
   "outputs": [],
   "source": [
    "p8.plotting2(t, y80, y82, y90, y92)"
   ]
  },
  {
   "cell_type": "markdown",
   "id": "1f7b333d-21bf-4a21-a5d2-05cbe9db6862",
   "metadata": {},
   "source": [
    "As expected the small angle approximation plot (left) yields a normal mode plot when there is no damping or driving force. However, the non-approximate plot doesn't give a constant sinusoidal behavior for either angle after 5 seconds."
   ]
  },
  {
   "cell_type": "markdown",
   "id": "b1fc2ac6-fb92-4210-8f4a-04dd1f9f1f7c",
   "metadata": {},
   "source": [
    "## Conclusion"
   ]
  },
  {
   "cell_type": "markdown",
   "id": "87f935cf-d20d-4369-b851-04f5c4d87aa5",
   "metadata": {},
   "source": [
    "Within this case study we analyzed the single pendulum's behavior under small angle approximation and without approximating the angle. Further exploration of the pendulum with damping and driving force was done, in order to observe the behavior displayed under these circumstances. Once this case study was concluded we approached the double pendulum, using the same approach; introduce new parameters once one behavior was analyzed to observe the changes.\n",
    "\n",
    "While analyzing the changes between the approximate and non-approximate cases, I decided to obtain the eigenvalues of the approximate system and observe how they changed the behavior of the non-approximate case. Upon doing so, the behavior of both the approximate and non-approximate theta's resembled that of the damped single pendulum with a driving force. This implied that there was some stable behavior using the eigen values as the initial conditions. As a way of checking if this would yield a normal mode in the absence of a driving force and damping I decided to plot the un-damped and un-driven double pendulum. Under these conditions the approximate case yielded a normal mode, while the non-approximate gave somewhat of a normal mode.\n",
    "\n",
    "From here I would go back and refine the methods used within the eigen-value calculator and develop an algorithm that would find the values for the constants that will give the normal mode for either case."
   ]
  },
  {
   "cell_type": "markdown",
   "id": "a7b15735",
   "metadata": {},
   "source": [
    "<div align=\"center\"> <font size=\"+2\">References"
   ]
  },
  {
   "cell_type": "markdown",
   "id": "e59b7698",
   "metadata": {},
   "source": [
    "[1] ```Runge-kutta 4 with multiple equations and no time dependence.```\n",
    "\n",
    "[2] ```Sheldon Axler. Linear Algebra Done Right. Springer, 2015.```\n",
    "\n",
    "[3] ```Frank Harris George B. Arkfen, Hans J. Weber. Mathematical Methods for Physicist, Fifth Edition. Academic Press, 2000.```\n",
    "\n",
    "[4] ```MIT. “myphysicslab double pendulum”, 2002.```\n",
    "\n",
    "[5] ```Manuel J. Paez Rubin H Landau and Cristian C. Bordeianu. “Computational Physics: Problem Solving with Python”. WILEY-VCH, 2005.```\n",
    "\n",
    "[6] ```Jerry B. Marion Stephen T. Thornton. “Classical Dynamics of Particles and Systems”.Brooks/Cole, 2004.```"
   ]
  }
 ],
 "metadata": {
  "kernelspec": {
   "display_name": "Python 3 (ipykernel)",
   "language": "python",
   "name": "python3"
  },
  "language_info": {
   "codemirror_mode": {
    "name": "ipython",
    "version": 3
   },
   "file_extension": ".py",
   "mimetype": "text/x-python",
   "name": "python",
   "nbconvert_exporter": "python",
   "pygments_lexer": "ipython3",
   "version": "3.11.7"
  }
 },
 "nbformat": 4,
 "nbformat_minor": 5
}
